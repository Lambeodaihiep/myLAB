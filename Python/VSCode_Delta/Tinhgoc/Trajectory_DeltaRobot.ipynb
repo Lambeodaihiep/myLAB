{
  "cells": [
    {
      "cell_type": "code",
      "execution_count": 130,
      "metadata": {
        "id": "l4bBQuH1L7G-"
      },
      "outputs": [],
      "source": [
        "import numpy as np\n",
        "pi = np.pi"
      ]
    },
    {
      "attachments": {},
      "cell_type": "markdown",
      "metadata": {},
      "source": [
        "Thay đổi 2 điểm này để cài đặt điểm bắt đầu và kết thúc"
      ]
    },
    {
      "cell_type": "code",
      "execution_count": 131,
      "metadata": {
        "id": "0HOTA7LsMNpH"
      },
      "outputs": [],
      "source": [
        "startP = np.array([[0],[0],[-420]]); #start\n",
        "endP = np.array([[0],[120],[-420]]); #end point"
      ]
    },
    {
      "attachments": {},
      "cell_type": "markdown",
      "metadata": {},
      "source": [
        "Thay đổi thử xem có bớt rung ko"
      ]
    },
    {
      "cell_type": "code",
      "execution_count": 132,
      "metadata": {
        "id": "_DTkmp7eMW3n"
      },
      "outputs": [],
      "source": [
        "#thay doi tham so Af va af co the lam giam do rung\n",
        "Af = 1/2; \n",
        "af = 0.125;"
      ]
    },
    {
      "cell_type": "code",
      "execution_count": 133,
      "metadata": {},
      "outputs": [],
      "source": [
        "##\n",
        "T = 1;\n",
        "\n",
        "Ca = (1+4*af/pow(pi,2))/(af/pi+2/pow(pi,2));\n",
        "\n",
        "af = (pow(pi,2)-2*Ca)/(Ca*pi-4*Ca);\n",
        "\n",
        "sample = 35;"
      ]
    },
    {
      "cell_type": "code",
      "execution_count": 134,
      "metadata": {
        "id": "_INY-1bnMXHn"
      },
      "outputs": [],
      "source": [
        "##khai báo x và dot\n",
        "x = 0;\n",
        "xdot = 0;\n",
        "x2dot = 0;\n",
        "\n",
        "PosAndVel = np.zeros((sample+1,6));"
      ]
    },
    {
      "cell_type": "code",
      "execution_count": 135,
      "metadata": {
        "id": "EBZ0yP2MMvHe"
      },
      "outputs": [],
      "source": [
        "def calPosElipe(startP,endP):\n",
        "\tfor i in range(sample +1):\n",
        "\t\tt = i/sample*T\n",
        "\t\tu = t/T\n",
        "\t\tif u>=0 and u <= (Af*af):\n",
        "\t\t\tx = Ca*af/pi*u-2*Ca*Af*pow(af,2)/pow(pi,2)*np.sin(pi*u/(2*Af*af))\n",
        "\t\t\txdot = Ca * af / pi / T - Ca * af / pi / T * np.cos(pi * t / T / Af / af / 0.2e1)\n",
        "\t\t\t#x2dot = Ca / pow(T, 2) / Af * np.sin(pi * t / T / Af / af / 0.2e1) / 0.2e1\n",
        "\t\telif u>(Af*af) and u<=Af:\n",
        "\t\t\tx = 2*(Ca*Af*(1-2*af))/pow(pi,2)+Ca*af/pi*u-2*Ca*Af*pow((1-af),2)/pow(pi,2)*np.sin(pi*u/(2*Af*(1-af))+(1-2*af)*pi/(2*(1-af)));\n",
        "\t\t\txdot = Ca * af / pi / T - Ca * (1 - af) / pi / T * np.cos(-(pi * t / T / Af / (1 - af)) / 0.2e1 - ((1 - 2 * af) * pi / (2 - 2 * af)));\n",
        "\t\t\t#x2dot = -Ca / (pow(T, 2)) / Af * np.sin(-(pi * t / T / Af / (1 - af)) / 0.2e1 - ((1 - 2 * af) * pi / (2 - 2 * af))) / 0.2e1;\n",
        "\t\telif u>Af and u<=(1-af*(1-Af)):\n",
        "\t\t\tx = 1-2*Ca*(1-Af)*(1-2*af)/pow(pi,2)-Ca*af*(1-u)/pi+2*Ca*(1-Af)*pow((1-af),2)/pow(pi,2)*np.sin(pi*(1-u)/(2*(1-Af)*(1-af))+(1-2*af)*pi/(2*(1-af)));\n",
        "\t\t\txdot = Ca * af / pi / T - 0.2e1 * Ca * (1 - Af) * (1 - af) / pi / T / (2 - 2 * Af) * np.cos((-pi * (1 - t / T) / (2 - 2 * Af) / (1 - af) - (1 - 2 * af) * pi / (2 - 2 * af)));\n",
        "\t\t\t#x2dot = 0.2e1 * Ca * (1 - Af) / (pow(T, 2)) / (pow(2 - 2 * Af) ,2) * np.sin((-pi * (1 - t / T) / (2 - 2 * Af) / (1 - af) - (1 - 2 * af) * pi / (2 - 2 * af)));\n",
        "\t\telif u > (1-af*(1-Af)) and u <=1:\n",
        "\t\t\tx = 1-Ca*af*(1-u)/pi-2*Ca*(1-Af)*pow(af,2)/pow(pi,2)*np.sin(pi*(1-u)/(2*(1-Af)*af));\n",
        "\t\t\txdot = Ca * af / pi / T + 0.2e1 * Ca * (1 - Af) * af / pi / T / (2 - 2 * Af) * np.cos((pi * (1 - t / T) / (2 - 2 * Af) / af));\n",
        "\t\t\t#x2dot = 0.2e1 * Ca * (1 - Af) / (pow(T, 2)) / (pow(2 - 2 * Af) , 2) * np.sin((pi * (1 - t / T) / (2 - 2 * Af) / af));\n",
        "\t\ts0 = (startP+endP)/2;\n",
        "\t\t\n",
        "\t\t# phi = np.arctan((startP[1]-endP[1])/(startP[0]-endP[0]))\n",
        "\n",
        "\t\tif startP[0] != endP[0]:\n",
        "\t\t\tphi = np.arctan((startP[1]-endP[1])/(startP[0]-endP[0]))\n",
        "\t\telse:\n",
        "\t\t\t# Xử lý trường hợp startP[0] = endP[0]\n",
        "\t\t\tphi = 0  # Hoặc giá trị mong muốn khác tùy theo yêu cầu của bạn\n",
        "\n",
        "\t\tA = float(1/2*np.sqrt(pow((startP[0]-endP[0]),2)+pow((startP[1]-endP[1]),2)));\n",
        "\t\tB = 50;\n",
        "\t\tC = float((startP[2]-endP[2])/2);\n",
        "\n",
        "\t\t# print(A)\n",
        "\t\t# print(B)\n",
        "\t\t# print(C)\n",
        "\n",
        "\t\trot = np.array([[np.cos(phi),-np.sin(phi),0], [np.sin(phi) ,np.cos(phi) ,0], [0, 0, 1]]);\n",
        "\t\tABC = np.array([[A, 0, 0], [0, 1, 0], [C, 0, B]], dtype=np.float64)\n",
        "\n",
        "\t\tss0 = np.array([[np.cos(pi*x)], [0], [np.sin(pi*x)]]);\n",
        "\t\tss0dot = np.array([[-xdot*pi*np.sin(pi*x)],[0], [xdot*pi*np.cos(pi*x)]]);\n",
        "\t\t#ss02dot = np.array([[-x2dot*pi*np.sin(pi*x)-pow(xdot,2)*pi*np.cos(pi*x)], [0], [x2dot*pi*np.cos(pi*x)-pow(xdot,2)*pi*np.sin(pi*x)]]);\n",
        "\n",
        "\t\ts = s0 + np.dot(np.dot(rot,ABC),ss0)\n",
        "\t\tPosAndVel[i][0] = s[0];\n",
        "\t\tPosAndVel[i][1] = s[1];\n",
        "\t\tPosAndVel[i][2] = s[2];\n",
        "\n",
        "\n",
        "\t\tsdot = np.dot(np.dot(rot,ABC),ss0dot)\n",
        "\t\t# print(sdot[2]);\n",
        "\t\tPosAndVel[i][3] = sdot[0];\n",
        "\t\tPosAndVel[i][4] = sdot[1];\n",
        "\t\tPosAndVel[i][5] = sdot[2];\n",
        "\n",
        "\treturn PosAndVel;\n"
      ]
    },
    {
      "cell_type": "code",
      "execution_count": 136,
      "metadata": {
        "id": "wfEH6HfokEeU"
      },
      "outputs": [],
      "source": [
        "# # calcutation for PH curve\n",
        "# m = 10\n",
        "# r = 10\n",
        "# j = 40;\n",
        "# w = 40;\n",
        "# height = 40;\n",
        "# u0 = np.sqrt(5*(35*m + r - np.sqrt(m^2 + r^2 + 70*m*r))/34)\n",
        "# u2 = np.sqrt(5*(m + 35*r - np.sqrt(m^2 + r^2 + 70*m*r))/68)\n",
        "# l_BC = 1/5*pow(u0,2) + 1/15*u0*u2 + 2/5*pow(u2,2);\n",
        "# l_All = 2*j + 2*l_BC + w - 2*r;\n",
        "\n",
        "# def calPosElipe(startP,endP):\n",
        "#   for i in range(sample +1):\n",
        "#     t = i/sample*T\n",
        "#     u = t/T\n",
        "#     PosAndVel[i][0] = startP[0] + l_All*(6*pow(u,5) - 15*pow(u,4) + 10*pow(u,3))\n",
        "#     PosAndVel[i][1] = startP[1];\n",
        "#     PosAndVel[i][2] = startP[2] + height*u;\n",
        "\n",
        "#     PosAndVel[i][3] = l_All*(30*pow(u,4) - 60*pow(u,3) + 30*pow(u,2))\n",
        "#     PosAndVel[i][4] = 0;\n",
        "#     PosAndVel[i][5] = height;\n",
        "#   return PosAndVel;\n"
      ]
    },
    {
      "cell_type": "code",
      "execution_count": 137,
      "metadata": {
        "colab": {
          "base_uri": "https://localhost:8080/"
        },
        "id": "UpMx2zvKamU6",
        "outputId": "a03b6bbf-6142-4120-b9f2-62ecaf2fe39b"
      },
      "outputs": [
        {
          "name": "stdout",
          "output_type": "stream",
          "text": [
            "[[  59.97026739   60.         -418.42611843   -1.40831167    0.\n",
            "    37.2649225 ]\n",
            " [  59.89948337   60.         -417.1070138    -3.82288863    0.\n",
            "    54.96748526]\n",
            " [  59.73343076   60.         -415.29205385   -8.16478183    0.\n",
            "    71.93960766]\n",
            " [  59.41001766   60.         -413.00546834  -14.90792605    0.\n",
            "    87.93378741]\n",
            " [  58.85525389   60.         -410.27963588  -24.40730813    0.\n",
            "   102.62663653]\n",
            " [  57.9869949    60.         -407.1572431   -36.8746456     0.\n",
            "   115.62126155]\n",
            " [  56.71938115   60.         -403.69322308  -52.35446346    0.\n",
            "   126.46040687]\n",
            " [  54.96792009   60.         -399.95616329  -70.7036104     0.\n",
            "   134.65036879]\n",
            " [  52.65506085   60.         -396.0288865   -91.57788497    0.\n",
            "   139.69473169]\n",
            " [  49.71600408   60.         -392.0079508  -114.42957297    0.\n",
            "   141.13583834]\n",
            " [  46.10438549   60.         -388.001892   -138.51921565    0.\n",
            "   138.60071467]\n",
            " [  41.79739227   60.         -384.12814087 -162.94379179    0.\n",
            "   131.84711401]\n",
            " [  36.79983176   60.         -380.50868254 -186.68177099    0.\n",
            "   120.80464434]\n",
            " [  31.14668925   60.         -377.26467318 -208.65336106    0.\n",
            "   105.60579569]\n",
            " [  24.90379152   60.         -374.51037078 -227.79202074    0.\n",
            "    86.602233  ]\n",
            " [  18.16633488   60.         -372.34685305 -243.12130188    0.\n",
            "    64.36299579]\n",
            " [  11.05522785   60.         -370.85606502 -253.82969174    0.\n",
            "    39.65315068]\n",
            " [   3.71141715   60.         -370.09574874 -259.33565082    0.\n",
            "    13.39374289]\n",
            " [  -3.71141715   60.         -370.09574874 -259.33565082    0.\n",
            "   -13.39374289]\n",
            " [ -11.05522785   60.         -370.85606502 -253.82969174    0.\n",
            "   -39.65315068]\n",
            " [ -18.16633488   60.         -372.34685305 -243.12130188    0.\n",
            "   -64.36299579]\n",
            " [ -24.90379152   60.         -374.51037078 -227.79202074    0.\n",
            "   -86.602233  ]\n",
            " [ -31.14668925   60.         -377.26467318 -208.65336106    0.\n",
            "  -105.60579569]\n",
            " [ -36.79983176   60.         -380.50868254 -186.68177099    0.\n",
            "  -120.80464434]\n",
            " [ -41.79739227   60.         -384.12814087 -162.94379179    0.\n",
            "  -131.84711401]\n",
            " [ -46.10438549   60.         -388.001892   -138.51921565    0.\n",
            "  -138.60071467]\n",
            " [ -49.71600408   60.         -392.0079508  -114.42957297    0.\n",
            "  -141.13583834]\n",
            " [ -52.65506085   60.         -396.0288865   -91.57788497    0.\n",
            "  -139.69473169]\n",
            " [ -54.96792009   60.         -399.95616329  -70.7036104     0.\n",
            "  -134.65036879]\n",
            " [ -56.71938115   60.         -403.69322308  -52.35446346    0.\n",
            "  -126.46040687]\n",
            " [ -57.9869949    60.         -407.1572431   -36.8746456     0.\n",
            "  -115.62126155]\n",
            " [ -58.85525389   60.         -410.27963588  -24.40730813    0.\n",
            "  -102.62663653]\n",
            " [ -59.41001766   60.         -413.00546834  -14.90792605    0.\n",
            "   -87.93378741]\n",
            " [ -59.73343076   60.         -415.29205385   -8.16478183    0.\n",
            "   -71.93960766]\n",
            " [ -59.89948337   60.         -417.1070138    -3.82288863    0.\n",
            "   -54.96748526]\n",
            " [ -59.97026739   60.         -418.42611843   -1.40831167    0.\n",
            "   -37.2649225 ]]\n"
          ]
        },
        {
          "name": "stderr",
          "output_type": "stream",
          "text": [
            "C:\\Users\\lpnam\\AppData\\Local\\Temp\\ipykernel_20792\\1888277816.py:31: DeprecationWarning: Conversion of an array with ndim > 0 to a scalar is deprecated, and will error in future. Ensure you extract a single element from your array before performing this operation. (Deprecated NumPy 1.25.)\n",
            "  A = float(1/2*np.sqrt(pow((startP[0]-endP[0]),2)+pow((startP[1]-endP[1]),2)));\n",
            "C:\\Users\\lpnam\\AppData\\Local\\Temp\\ipykernel_20792\\1888277816.py:33: DeprecationWarning: Conversion of an array with ndim > 0 to a scalar is deprecated, and will error in future. Ensure you extract a single element from your array before performing this operation. (Deprecated NumPy 1.25.)\n",
            "  C = float((startP[2]-endP[2])/2);\n",
            "C:\\Users\\lpnam\\AppData\\Local\\Temp\\ipykernel_20792\\1888277816.py:47: DeprecationWarning: Conversion of an array with ndim > 0 to a scalar is deprecated, and will error in future. Ensure you extract a single element from your array before performing this operation. (Deprecated NumPy 1.25.)\n",
            "  PosAndVel[i][0] = s[0];\n",
            "C:\\Users\\lpnam\\AppData\\Local\\Temp\\ipykernel_20792\\1888277816.py:48: DeprecationWarning: Conversion of an array with ndim > 0 to a scalar is deprecated, and will error in future. Ensure you extract a single element from your array before performing this operation. (Deprecated NumPy 1.25.)\n",
            "  PosAndVel[i][1] = s[1];\n",
            "C:\\Users\\lpnam\\AppData\\Local\\Temp\\ipykernel_20792\\1888277816.py:49: DeprecationWarning: Conversion of an array with ndim > 0 to a scalar is deprecated, and will error in future. Ensure you extract a single element from your array before performing this operation. (Deprecated NumPy 1.25.)\n",
            "  PosAndVel[i][2] = s[2];\n",
            "C:\\Users\\lpnam\\AppData\\Local\\Temp\\ipykernel_20792\\1888277816.py:54: DeprecationWarning: Conversion of an array with ndim > 0 to a scalar is deprecated, and will error in future. Ensure you extract a single element from your array before performing this operation. (Deprecated NumPy 1.25.)\n",
            "  PosAndVel[i][3] = sdot[0];\n",
            "C:\\Users\\lpnam\\AppData\\Local\\Temp\\ipykernel_20792\\1888277816.py:55: DeprecationWarning: Conversion of an array with ndim > 0 to a scalar is deprecated, and will error in future. Ensure you extract a single element from your array before performing this operation. (Deprecated NumPy 1.25.)\n",
            "  PosAndVel[i][4] = sdot[1];\n",
            "C:\\Users\\lpnam\\AppData\\Local\\Temp\\ipykernel_20792\\1888277816.py:56: DeprecationWarning: Conversion of an array with ndim > 0 to a scalar is deprecated, and will error in future. Ensure you extract a single element from your array before performing this operation. (Deprecated NumPy 1.25.)\n",
            "  PosAndVel[i][5] = sdot[2];\n"
          ]
        }
      ],
      "source": [
        "PosAndVel = calPosElipe(startP,endP);\n",
        "print(PosAndVel);"
      ]
    },
    {
      "cell_type": "code",
      "execution_count": 138,
      "metadata": {
        "colab": {
          "base_uri": "https://localhost:8080/"
        },
        "id": "syDk_yxXUdRW",
        "outputId": "30bf1b00-8579-4f6e-d14a-2d3fba6d917f"
      },
      "outputs": [
        {
          "name": "stdout",
          "output_type": "stream",
          "text": [
            "[[235]\n",
            " [542]\n",
            " [849]]\n"
          ]
        }
      ],
      "source": [
        "ABC = np.array([[1, 2, 3], [4, 5, 6], [7, 8, 9]]);\n",
        "ss0 = np.array([[1],[2],[3]]);\n",
        "CDE = np.array([[2, 3, 4], [4, 5, 6], [7, 8, 9]]);\n",
        "print(np.dot(np.dot(ABC,CDE),ss0)+ss0)"
      ]
    },
    {
      "cell_type": "code",
      "execution_count": 139,
      "metadata": {
        "id": "QWEwt9uIMYUU"
      },
      "outputs": [],
      "source": [
        "import math\n",
        "R = 120\n",
        "r = 38\n",
        "l = 425\n",
        "L =  193.5"
      ]
    },
    {
      "cell_type": "code",
      "execution_count": 140,
      "metadata": {
        "id": "9enUvuLbP4ka"
      },
      "outputs": [],
      "source": [
        "def FKinem(theta1, theta2, theta3):\n",
        "    pos = np.zeros(3)\n",
        "    t = R-r;\n",
        "    theta1 = np.deg2rad(theta1);\n",
        "    theta2 = np.deg2rad(theta2);\n",
        "    theta3 = np.deg2rad(theta3);\n",
        "\n",
        "    y1 = -(t + L*math.cos(theta1));\n",
        "    z1 = - L * math.sin(theta1);\n",
        "\n",
        "    y2 = (t + L*math.cos(theta2)) * math.sin(pi/6);\n",
        "    x2 = y2 * math.tan(pi/3);\n",
        "    z2 = -L * math.sin(theta2);\n",
        "\n",
        "    y3 = (t + L*math.cos(theta3)) * math.sin(pi/6);\n",
        "    x3 = -y3 * math.tan(pi/3);\n",
        "    z3 = -L * math.sin(theta3);\n",
        "\n",
        "    w1 = pow(y1,2) + pow(z1,2);\n",
        "    w2 = pow(x2,2) + pow(y2,2) + pow(z2,2);\n",
        "    w3 = pow(x3,2) + pow(y3,2) + pow(z3,2)\n",
        "\n",
        "    dnm = (y2-y1)*x3 - (y3-y1)*x2;\n",
        "\n",
        "    a1 = (z2-z1)*(y3-y1) - (z3-z1)*(y2-y1);\n",
        "    b1= -( (w2-w1)*(y3-y1) - (w3-w1)*(y2-y1) ) / 2;\n",
        "\n",
        "    a2 = -(z2-z1)*x3 + (z3-z1)*x2;\n",
        "    b2 = ( (w2-w1)*x3 - (w3-w1)*x2) / 2;\n",
        "\n",
        "    a = pow(a1,2) + pow(a2,2) + pow(dnm,2);\n",
        "    b = 2 * (a1*b1 + a2*(b2 - y1*dnm) - z1*pow(dnm,2));\n",
        "    c = (b2 - y1*dnm)*(b2 - y1*dnm) + b1*b1 + pow(dnm,2)*(pow(z1,2) - l*l)\n",
        "\n",
        "    d = b*b - 4*a*c;\n",
        "    if d >= 0:\n",
        "        Z = -0.5*(b + math.sqrt(d)) / a;\n",
        "        X = (a1*Z + b1) / dnm;\n",
        "        Y = (a2*Z + b2) / dnm;\n",
        "        if (abs(X) > 300 or abs(Y) > 300 or  Z > 0 or Z < -500):\n",
        "            fl = -1;\n",
        "        else:\n",
        "            fl = 0;\n",
        "\n",
        "    else:\n",
        "        X = None;\n",
        "        Y = None;\n",
        "        Z = None;\n",
        "        fl = -1;\n",
        "\n",
        "    pos[0] = X\n",
        "    pos[1] = Y\n",
        "    pos[2] = Z\n",
        "    return pos"
      ]
    },
    {
      "cell_type": "code",
      "execution_count": 141,
      "metadata": {
        "id": "JyJhqj8uMR9C"
      },
      "outputs": [],
      "source": [
        "def IKinemTh(x0, y0, z0):\n",
        "    theta = 0\n",
        "    y1 = -R;\n",
        "    y0 = y0-r;\n",
        "\n",
        "    a = (pow(x0,2) + pow(y0,2) + pow(z0,2) + pow(L,2) - pow(l,2) - pow(y1,2))/(2*z0);\n",
        "    b = (y1-y0)/z0;\n",
        "\n",
        "    D = -pow((a + b*y1),2) + pow(L,2)*(pow(b,2)+1);\n",
        "    if D < 0:\n",
        "        theta = None;\n",
        "    else:\n",
        "        yj = (y1 - a*b - math.sqrt(D)) / (pow(b,2) + 1);\n",
        "        zj = a + b*yj;\n",
        "        theta = math.atan(-zj/(y1-yj));\n",
        "        if (yj>y1):\n",
        "            theta = theta + np.pi;\n",
        "        theta = np.rad2deg(theta);\n",
        "    return theta\n",
        "\n",
        "def IKinem(X, Y, Z):\n",
        "    theta = np.zeros(3)\n",
        "    x0 = X;\n",
        "    y0 = Y;\n",
        "    z0 = Z;\n",
        "    theta1 = IKinemTh(x0,y0,z0);\n",
        "\n",
        "    x0 = X*math.cos(2*pi/3) + Y*math.sin(2*pi/3);\n",
        "    y0 = Y*math.cos(2*pi/3) - X*math.sin(2*pi/3);\n",
        "    z0 =Z;\n",
        "    theta2 = IKinemTh(x0,y0,z0);\n",
        "    x0 = X*math.cos(2*pi/3) - Y*math.sin(2*pi/3);\n",
        "\n",
        "\n",
        "    y0 =Y*math.cos(2*pi/3) + X*math.sin(2*pi/3);\n",
        "    z0 = Z;\n",
        "    theta3 = IKinemTh(x0,y0,z0);\n",
        "    fl=0\n",
        "    if (theta1 != None and theta1 != None and theta1 != None):\n",
        "        fl = 0;\n",
        "    else:\n",
        "        fl = -1;\n",
        "    theta[0]= theta1\n",
        "    theta[1] = theta2\n",
        "    theta[2] = theta3\n",
        "    # theta[3] = fl\n",
        "    return theta"
      ]
    },
    {
      "cell_type": "code",
      "execution_count": 142,
      "metadata": {
        "colab": {
          "base_uri": "https://localhost:8080/"
        },
        "id": "-p_v6wR-i92b",
        "outputId": "f75d62f5-224b-46e9-f942-25e79e74d131"
      },
      "outputs": [
        {
          "name": "stdout",
          "output_type": "stream",
          "text": [
            "[35.76743965 20.21165645 49.56879952]\n"
          ]
        }
      ],
      "source": [
        "print(IKinem(100,0,-450))"
      ]
    },
    {
      "cell_type": "code",
      "execution_count": 143,
      "metadata": {
        "id": "yTSmkK89Mo9c"
      },
      "outputs": [],
      "source": [
        "# theta1dot = 0;\n",
        "# theta2dot = 0;\n",
        "# theta3dot = 0;\n",
        "\n",
        "def CalThetaDot(q1,q2,q3,x,y,z,Xdot, Ydot, Zdot):\n",
        "\n",
        "    wB = R;\n",
        "    uB = 2*R;\n",
        "    sB = np.sqrt(3)*uB;\n",
        "    wP = r/2;\n",
        "    uP = r;\n",
        "    sP = np.sqrt(3)*uP;\n",
        "\n",
        "    q1 = pi/180 *q1;\n",
        "    q2 = pi/180 *q2;\n",
        "    q3 = pi/180 *q3;\n",
        "\n",
        "    a = wB - uP;\n",
        "    b = sP/2-np.sqrt(3)/2*wB;\n",
        "    c = wP - 1/2*wB;\n",
        "\n",
        "    JX = np.zeros((3,3));\n",
        "    JX[0,0] = x;\n",
        "    JX[0,1] = y + a + L*np.cos(q1);\n",
        "    JX[0,2] = z + L*np.sin(q1);\n",
        "\n",
        "    JX[1,0] = 2*(x+b)-np.sqrt(3)*L*np.cos(q2);\n",
        "    JX[1,1]= 2*(y+c) - L*np.cos(q2);\n",
        "    JX[1,2] =2*(z+L*np.sin(q2));\n",
        "\n",
        "    JX[2,0] = 2*(x-b)+np.sqrt(3)*L*np.cos(q3);\n",
        "    JX[2,1] = 2*(y+c) - L*np.cos(q3);\n",
        "    JX[2,2] = 2*(z+L*np.sin(q3));\n",
        "\n",
        "    Jphi = np.zeros((3,3));\n",
        "    Jphi[0,0] = L*((y+a)*np.sin(q1)-z*np.cos(q1));\n",
        "    Jphi[1,1] = -L*((np.sqrt(3)*(x+b)+y+c)*np.sin(q2)+2*z*np.cos(q2));\n",
        "    Jphi[2,2] = L*((np.sqrt(3)*(x-b)-y-c)*np.sin(q3)-2*z*np.cos(q3));\n",
        "\n",
        "    Xd = np.array([[Xdot],[Ydot],[Zdot]]);\n",
        "    theta1Dot = np.zeros(3);\n",
        "    thetaDot = np.dot(np.dot(JX,np.linalg.inv(Jphi)),Xd);\n",
        "    theta1Dot[0] = thetaDot[0]\n",
        "    theta1Dot[1] = thetaDot[1]\n",
        "    theta1Dot[2] = thetaDot[2]\n",
        "    return theta1Dot;"
      ]
    },
    {
      "cell_type": "code",
      "execution_count": 144,
      "metadata": {
        "colab": {
          "base_uri": "https://localhost:8080/"
        },
        "id": "nMAPLjZjQIOt",
        "outputId": "ef46a92c-d7d6-4d81-8acd-5e5b438d2b77"
      },
      "outputs": [
        {
          "name": "stdout",
          "output_type": "stream",
          "text": [
            "[-0.2334714  -0.53116417 -0.42065532]\n"
          ]
        },
        {
          "name": "stderr",
          "output_type": "stream",
          "text": [
            "C:\\Users\\lpnam\\AppData\\Local\\Temp\\ipykernel_20792\\3591904314.py:43: DeprecationWarning: Conversion of an array with ndim > 0 to a scalar is deprecated, and will error in future. Ensure you extract a single element from your array before performing this operation. (Deprecated NumPy 1.25.)\n",
            "  theta1Dot[0] = thetaDot[0]\n",
            "C:\\Users\\lpnam\\AppData\\Local\\Temp\\ipykernel_20792\\3591904314.py:44: DeprecationWarning: Conversion of an array with ndim > 0 to a scalar is deprecated, and will error in future. Ensure you extract a single element from your array before performing this operation. (Deprecated NumPy 1.25.)\n",
            "  theta1Dot[1] = thetaDot[1]\n",
            "C:\\Users\\lpnam\\AppData\\Local\\Temp\\ipykernel_20792\\3591904314.py:45: DeprecationWarning: Conversion of an array with ndim > 0 to a scalar is deprecated, and will error in future. Ensure you extract a single element from your array before performing this operation. (Deprecated NumPy 1.25.)\n",
            "  theta1Dot[2] = thetaDot[2]\n"
          ]
        }
      ],
      "source": [
        "tmp = CalThetaDot(38.43,22.78,52.23,-100,0,-450,0,0,74.53)\n",
        "print(tmp)"
      ]
    },
    {
      "cell_type": "code",
      "execution_count": 145,
      "metadata": {
        "colab": {
          "base_uri": "https://localhost:8080/"
        },
        "id": "iEIjgL6Bmcka",
        "outputId": "5ea2451b-89a2-48e8-9ca0-29fa676838da"
      },
      "outputs": [
        {
          "name": "stdout",
          "output_type": "stream",
          "text": [
            "[[-0.92857143 -0.71428571  0.5       ]\n",
            " [-0.53571429 -0.14285714  0.25      ]\n",
            " [ 0.82142857  0.28571429 -0.25      ]]\n"
          ]
        }
      ],
      "source": [
        "A = np.array([[ 1, 1, 3],[ -2, 5, 1],[ 1, 9, 7]])\n",
        "inv_ABC = np.linalg.inv(A)\n",
        "print(inv_ABC)"
      ]
    },
    {
      "cell_type": "code",
      "execution_count": 146,
      "metadata": {
        "id": "Hv-9aa_LOr5b"
      },
      "outputs": [],
      "source": [
        "def calVelSignal(startP,endP):\n",
        "\tXAndDX = calPosElipe(startP,endP);\n",
        "\n",
        "\tqAndDq = np.zeros((sample+1,6));\n",
        "\t# dq = np.zeros((sample+1,3));\n",
        "\tfor i in range(sample +1):\n",
        "\t\tqAndDq[i][0:3] = IKinem(XAndDX[i][0],XAndDX[i][1],XAndDX[i][2]);\n",
        "\t\tqAndDq[i][3:6] = CalThetaDot(qAndDq[i][0],qAndDq[i][1],qAndDq[i][2],XAndDX[i,0],XAndDX[i][1],XAndDX[i][2],XAndDX[i][3], XAndDX[i][4], XAndDX[i][5]);\n",
        "\treturn qAndDq;"
      ]
    },
    {
      "cell_type": "code",
      "execution_count": 147,
      "metadata": {
        "colab": {
          "base_uri": "https://localhost:8080/"
        },
        "id": "Z6VrQe6JXAwO",
        "outputId": "fc1e777a-0b91-445a-a23f-55823b813ddc"
      },
      "outputs": [
        {
          "name": "stdout",
          "output_type": "stream",
          "text": [
            "37.26492250195509\n"
          ]
        },
        {
          "name": "stderr",
          "output_type": "stream",
          "text": [
            "C:\\Users\\lpnam\\AppData\\Local\\Temp\\ipykernel_20792\\1888277816.py:31: DeprecationWarning: Conversion of an array with ndim > 0 to a scalar is deprecated, and will error in future. Ensure you extract a single element from your array before performing this operation. (Deprecated NumPy 1.25.)\n",
            "  A = float(1/2*np.sqrt(pow((startP[0]-endP[0]),2)+pow((startP[1]-endP[1]),2)));\n",
            "C:\\Users\\lpnam\\AppData\\Local\\Temp\\ipykernel_20792\\1888277816.py:33: DeprecationWarning: Conversion of an array with ndim > 0 to a scalar is deprecated, and will error in future. Ensure you extract a single element from your array before performing this operation. (Deprecated NumPy 1.25.)\n",
            "  C = float((startP[2]-endP[2])/2);\n",
            "C:\\Users\\lpnam\\AppData\\Local\\Temp\\ipykernel_20792\\1888277816.py:47: DeprecationWarning: Conversion of an array with ndim > 0 to a scalar is deprecated, and will error in future. Ensure you extract a single element from your array before performing this operation. (Deprecated NumPy 1.25.)\n",
            "  PosAndVel[i][0] = s[0];\n",
            "C:\\Users\\lpnam\\AppData\\Local\\Temp\\ipykernel_20792\\1888277816.py:48: DeprecationWarning: Conversion of an array with ndim > 0 to a scalar is deprecated, and will error in future. Ensure you extract a single element from your array before performing this operation. (Deprecated NumPy 1.25.)\n",
            "  PosAndVel[i][1] = s[1];\n",
            "C:\\Users\\lpnam\\AppData\\Local\\Temp\\ipykernel_20792\\1888277816.py:49: DeprecationWarning: Conversion of an array with ndim > 0 to a scalar is deprecated, and will error in future. Ensure you extract a single element from your array before performing this operation. (Deprecated NumPy 1.25.)\n",
            "  PosAndVel[i][2] = s[2];\n",
            "C:\\Users\\lpnam\\AppData\\Local\\Temp\\ipykernel_20792\\1888277816.py:54: DeprecationWarning: Conversion of an array with ndim > 0 to a scalar is deprecated, and will error in future. Ensure you extract a single element from your array before performing this operation. (Deprecated NumPy 1.25.)\n",
            "  PosAndVel[i][3] = sdot[0];\n",
            "C:\\Users\\lpnam\\AppData\\Local\\Temp\\ipykernel_20792\\1888277816.py:55: DeprecationWarning: Conversion of an array with ndim > 0 to a scalar is deprecated, and will error in future. Ensure you extract a single element from your array before performing this operation. (Deprecated NumPy 1.25.)\n",
            "  PosAndVel[i][4] = sdot[1];\n",
            "C:\\Users\\lpnam\\AppData\\Local\\Temp\\ipykernel_20792\\1888277816.py:56: DeprecationWarning: Conversion of an array with ndim > 0 to a scalar is deprecated, and will error in future. Ensure you extract a single element from your array before performing this operation. (Deprecated NumPy 1.25.)\n",
            "  PosAndVel[i][5] = sdot[2];\n"
          ]
        }
      ],
      "source": [
        "XAndDX = calPosElipe(startP,endP);\n",
        "print(XAndDX[0,5])"
      ]
    },
    {
      "cell_type": "code",
      "execution_count": 148,
      "metadata": {
        "colab": {
          "base_uri": "https://localhost:8080/"
        },
        "id": "wbuqB7nsO_pm",
        "outputId": "e05b6025-c042-481d-8534-df808f2d3e0c"
      },
      "outputs": [
        {
          "name": "stdout",
          "output_type": "stream",
          "text": [
            "[[ 3.77403451e+01  1.15437494e+01  3.11771414e+01 -7.11913948e-02\n",
            "  -1.71468656e-01 -1.58394364e-01]\n",
            " [ 3.74570387e+01  1.11907047e+01  3.08613194e+01 -1.06227957e-01\n",
            "  -2.45510905e-01 -2.45515224e-01]\n",
            " [ 3.70647931e+01  1.07128567e+01  3.04131422e+01 -1.41240209e-01\n",
            "  -3.07804173e-01 -3.43004288e-01]\n",
            " [ 3.65665212e+01  1.01241505e+01  2.98255192e+01 -1.76092265e-01\n",
            "  -3.54969102e-01 -4.53393380e-01]\n",
            " [ 3.59664268e+01  9.44243696e+00  2.90904149e+01 -2.10393420e-01\n",
            "  -3.83602579e-01 -5.78223825e-01]\n",
            " [ 3.52706480e+01  8.68987210e+00  2.81999238e+01 -2.43452937e-01\n",
            "  -3.90325084e-01 -7.17829978e-01]\n",
            " [ 3.44879412e+01  7.89325478e+00  2.71475088e+01 -2.74248486e-01\n",
            "  -3.71882245e-01 -8.71118252e-01]\n",
            " [ 3.36303466e+01  7.08420719e+00  2.59293827e+01 -3.01417886e-01\n",
            "  -3.25308302e-01 -1.03536404e+00]\n",
            " [ 3.27137659e+01  6.29908285e+00  2.45459979e+01 -3.23286138e-01\n",
            "  -2.48158763e-01 -1.20606135e+00]\n",
            " [ 3.17583609e+01  5.57847270e+00  2.30035819e+01 -3.37940530e-01\n",
            "  -1.38816719e-01 -1.37687305e+00]\n",
            " [ 3.07886705e+01  4.96617221e+00  2.13156173e+01 -3.43364616e-01\n",
            "   3.13057622e-03 -1.53974110e+00]\n",
            " [ 2.98333327e+01  4.50748721e+00  1.95041099e+01 -3.37635773e-01\n",
            "   1.76463926e-01 -1.68522096e+00]\n",
            " [ 2.89243105e+01  4.24680760e+00  1.76004283e+01 -3.19179919e-01\n",
            "   3.77898249e-01 -1.80309391e+00]\n",
            " [ 2.80955520e+01  4.22448635e+00  1.56454404e+01 -2.87060693e-01\n",
            "   6.01722597e-01 -1.88327705e+00]\n",
            " [ 2.73810890e+01  4.47323023e+00  1.36886567e+01 -2.41261033e-01\n",
            "   8.39630708e-01 -1.91698387e+00]\n",
            " [ 2.68126806e+01  5.01441967e+00  1.17861465e+01 -1.82897942e-01\n",
            "   1.08087886e+00 -1.89799558e+00]\n",
            " [ 2.64172335e+01  5.85496550e+00  9.99716123e+00 -1.14304430e-01\n",
            "   1.31288701e+00 -1.82380836e+00]\n",
            " [ 2.62143420e+01  6.98538742e+00  8.37967607e+00 -3.89253744e-02\n",
            "   1.52231722e+00 -1.69637013e+00]\n",
            " [ 2.62143420e+01  8.37967607e+00  6.98538742e+00  3.89895055e-02\n",
            "   1.69652421e+00 -1.52216104e+00]\n",
            " [ 2.64172335e+01  9.99716123e+00  5.85496550e+00  1.14858635e-01\n",
            "   1.82512111e+00 -1.31152034e+00]\n",
            " [ 2.68126806e+01  1.17861465e+01  5.01441967e+00  1.84318182e-01\n",
            "   1.90131195e+00 -1.07733719e+00]\n",
            " [ 2.73810890e+01  1.36886567e+01  4.47323023e+00  2.43731338e-01\n",
            "   1.92267203e+00 -8.33411329e-01]\n",
            " [ 2.80955520e+01  1.56454404e+01  4.22448635e+00  2.90551905e-01\n",
            "   1.89120980e+00 -5.92864277e-01]\n",
            " [ 2.89243105e+01  1.76004283e+01  4.24680760e+00  3.23482727e-01\n",
            "   1.81275158e+00 -3.66915462e-01]\n",
            " [ 2.98333327e+01  1.95041099e+01  4.50748721e+00  3.42428525e-01\n",
            "   1.69586060e+00 -1.64179410e-01]\n",
            " [ 3.07886705e+01  2.13156173e+01  4.96617221e+00  3.48290635e-01\n",
            "   1.55057200e+00  9.52740282e-03]\n",
            " [ 3.17583609e+01  2.30035819e+01  5.57847270e+00  3.42674136e-01\n",
            "   1.38719603e+00  1.50993194e-01]\n",
            " [ 3.27137659e+01  2.45459979e+01  6.29908285e+00  3.27576029e-01\n",
            "   1.21535327e+00  2.59192054e-01]\n",
            " [ 3.36303466e+01  2.59293827e+01  7.08420719e+00  3.05105767e-01\n",
            "   1.04330803e+00  3.34782568e-01]\n",
            " [ 3.44879412e+01  2.71475088e+01  7.89325478e+00  2.77267106e-01\n",
            "   8.77592190e-01  3.79622999e-01]\n",
            " [ 3.52706480e+01  2.81999238e+01  8.68987210e+00  2.45810531e-01\n",
            "   7.22869111e-01  3.96357030e-01]\n",
            " [ 3.59664268e+01  2.90904149e+01  9.44243696e+00  2.12151635e-01\n",
            "   5.81972211e-01  3.88089880e-01]\n",
            " [ 3.65665212e+01  2.98255192e+01  1.01241505e+01  1.77343247e-01\n",
            "   4.56055344e-01  3.58153981e-01]\n",
            " [ 3.70647931e+01  3.04131422e+01  1.07128567e+01  1.42086477e-01\n",
            "   3.44802626e-01  3.09953789e-01]\n",
            " [ 3.74570387e+01  3.08613194e+01  1.11907047e+01  1.06766723e-01\n",
            "   2.46659053e-01  2.46876786e-01]\n",
            " [ 3.77403451e+01  3.11771414e+01  1.15437494e+01  7.15035043e-02\n",
            "   1.59056591e-01  1.72258749e-01]]\n"
          ]
        },
        {
          "name": "stderr",
          "output_type": "stream",
          "text": [
            "C:\\Users\\lpnam\\AppData\\Local\\Temp\\ipykernel_20792\\1888277816.py:31: DeprecationWarning: Conversion of an array with ndim > 0 to a scalar is deprecated, and will error in future. Ensure you extract a single element from your array before performing this operation. (Deprecated NumPy 1.25.)\n",
            "  A = float(1/2*np.sqrt(pow((startP[0]-endP[0]),2)+pow((startP[1]-endP[1]),2)));\n",
            "C:\\Users\\lpnam\\AppData\\Local\\Temp\\ipykernel_20792\\1888277816.py:33: DeprecationWarning: Conversion of an array with ndim > 0 to a scalar is deprecated, and will error in future. Ensure you extract a single element from your array before performing this operation. (Deprecated NumPy 1.25.)\n",
            "  C = float((startP[2]-endP[2])/2);\n",
            "C:\\Users\\lpnam\\AppData\\Local\\Temp\\ipykernel_20792\\1888277816.py:47: DeprecationWarning: Conversion of an array with ndim > 0 to a scalar is deprecated, and will error in future. Ensure you extract a single element from your array before performing this operation. (Deprecated NumPy 1.25.)\n",
            "  PosAndVel[i][0] = s[0];\n",
            "C:\\Users\\lpnam\\AppData\\Local\\Temp\\ipykernel_20792\\1888277816.py:48: DeprecationWarning: Conversion of an array with ndim > 0 to a scalar is deprecated, and will error in future. Ensure you extract a single element from your array before performing this operation. (Deprecated NumPy 1.25.)\n",
            "  PosAndVel[i][1] = s[1];\n",
            "C:\\Users\\lpnam\\AppData\\Local\\Temp\\ipykernel_20792\\1888277816.py:49: DeprecationWarning: Conversion of an array with ndim > 0 to a scalar is deprecated, and will error in future. Ensure you extract a single element from your array before performing this operation. (Deprecated NumPy 1.25.)\n",
            "  PosAndVel[i][2] = s[2];\n",
            "C:\\Users\\lpnam\\AppData\\Local\\Temp\\ipykernel_20792\\1888277816.py:54: DeprecationWarning: Conversion of an array with ndim > 0 to a scalar is deprecated, and will error in future. Ensure you extract a single element from your array before performing this operation. (Deprecated NumPy 1.25.)\n",
            "  PosAndVel[i][3] = sdot[0];\n",
            "C:\\Users\\lpnam\\AppData\\Local\\Temp\\ipykernel_20792\\1888277816.py:55: DeprecationWarning: Conversion of an array with ndim > 0 to a scalar is deprecated, and will error in future. Ensure you extract a single element from your array before performing this operation. (Deprecated NumPy 1.25.)\n",
            "  PosAndVel[i][4] = sdot[1];\n",
            "C:\\Users\\lpnam\\AppData\\Local\\Temp\\ipykernel_20792\\1888277816.py:56: DeprecationWarning: Conversion of an array with ndim > 0 to a scalar is deprecated, and will error in future. Ensure you extract a single element from your array before performing this operation. (Deprecated NumPy 1.25.)\n",
            "  PosAndVel[i][5] = sdot[2];\n",
            "C:\\Users\\lpnam\\AppData\\Local\\Temp\\ipykernel_20792\\3591904314.py:43: DeprecationWarning: Conversion of an array with ndim > 0 to a scalar is deprecated, and will error in future. Ensure you extract a single element from your array before performing this operation. (Deprecated NumPy 1.25.)\n",
            "  theta1Dot[0] = thetaDot[0]\n",
            "C:\\Users\\lpnam\\AppData\\Local\\Temp\\ipykernel_20792\\3591904314.py:44: DeprecationWarning: Conversion of an array with ndim > 0 to a scalar is deprecated, and will error in future. Ensure you extract a single element from your array before performing this operation. (Deprecated NumPy 1.25.)\n",
            "  theta1Dot[1] = thetaDot[1]\n",
            "C:\\Users\\lpnam\\AppData\\Local\\Temp\\ipykernel_20792\\3591904314.py:45: DeprecationWarning: Conversion of an array with ndim > 0 to a scalar is deprecated, and will error in future. Ensure you extract a single element from your array before performing this operation. (Deprecated NumPy 1.25.)\n",
            "  theta1Dot[2] = thetaDot[2]\n"
          ]
        }
      ],
      "source": [
        "signal = calVelSignal(startP,endP);\n",
        "print(signal);"
      ]
    },
    {
      "cell_type": "code",
      "execution_count": 149,
      "metadata": {
        "colab": {
          "base_uri": "https://localhost:8080/"
        },
        "id": "ykvL_NDUVcxY",
        "outputId": "2c950e52-ca91-4a9e-c2a7-6822ad2c6a15"
      },
      "outputs": [
        {
          "name": "stdout",
          "output_type": "stream",
          "text": [
            "[[37.74034512 11.54374941 31.17714135]\n",
            " [37.45703872 11.19070475 30.8613194 ]\n",
            " [37.06479312 10.71285672 30.41314219]\n",
            " [36.56652125 10.12415046 29.82551919]\n",
            " [35.96642679  9.44243696 29.09041488]\n",
            " [35.27064805  8.6898721  28.19992382]\n",
            " [34.48794122  7.89325478 27.14750884]\n",
            " [33.63034664  7.08420719 25.92938274]\n",
            " [32.71376591  6.29908285 24.54599793]\n",
            " [31.75836092  5.5784727  23.00358195]\n",
            " [30.78867047  4.96617221 21.3156173 ]\n",
            " [29.83333272  4.50748721 19.50410991]\n",
            " [28.92431053  4.2468076  17.60042832]\n",
            " [28.09555202  4.22448635 15.64544043]\n",
            " [27.38108901  4.47323023 13.68865671]\n",
            " [26.81268058  5.01441967 11.78614647]\n",
            " [26.41723353  5.8549655   9.99716123]\n",
            " [26.21434204  6.98538742  8.37967607]\n",
            " [26.21434204  8.37967607  6.98538742]\n",
            " [26.41723353  9.99716123  5.8549655 ]\n",
            " [26.81268058 11.78614647  5.01441967]\n",
            " [27.38108901 13.68865671  4.47323023]\n",
            " [28.09555202 15.64544043  4.22448635]\n",
            " [28.92431053 17.60042832  4.2468076 ]\n",
            " [29.83333272 19.50410991  4.50748721]\n",
            " [30.78867047 21.3156173   4.96617221]\n",
            " [31.75836092 23.00358195  5.5784727 ]\n",
            " [32.71376591 24.54599793  6.29908285]\n",
            " [33.63034664 25.92938274  7.08420719]\n",
            " [34.48794122 27.14750884  7.89325478]\n",
            " [35.27064805 28.19992382  8.6898721 ]\n",
            " [35.96642679 29.09041488  9.44243696]\n",
            " [36.56652125 29.82551919 10.12415046]\n",
            " [37.06479312 30.41314219 10.71285672]\n",
            " [37.45703872 30.8613194  11.19070475]\n",
            " [37.74034512 31.17714135 11.54374941]]\n"
          ]
        }
      ],
      "source": [
        "stepNum = np.zeros((sample +1,3));\n",
        "velNum = np.zeros((sample,3));\n",
        "\n",
        "for i in range(sample+1):\n",
        "  stepNum[i] = signal[i][0:3];\n",
        "print(stepNum)"
      ]
    },
    {
      "cell_type": "code",
      "execution_count": 150,
      "metadata": {
        "id": "oJKvBCPJUWx5"
      },
      "outputs": [],
      "source": [
        "# check quỹ đạo để đảo ngược thứ tự step truyền vào\n",
        "check_direction =  FKinem(stepNum[0][0], stepNum[0][1], stepNum[0][2]) - np.transpose(endP)\n",
        "if np.sum(np.abs(check_direction)) <= 10:\n",
        "  print(\"true\")"
      ]
    },
    {
      "cell_type": "code",
      "execution_count": 151,
      "metadata": {
        "colab": {
          "base_uri": "https://localhost:8080/"
        },
        "id": "yotMGYe3U5LS",
        "outputId": "96f2cdac-e630-468a-98d7-a402c656e2cc"
      },
      "outputs": [
        {
          "data": {
            "text/plain": [
              "array([[   0,    0, -420]])"
            ]
          },
          "execution_count": 151,
          "metadata": {},
          "output_type": "execute_result"
        }
      ],
      "source": [
        "np.transpose(startP)"
      ]
    },
    {
      "cell_type": "code",
      "execution_count": 152,
      "metadata": {
        "colab": {
          "base_uri": "https://localhost:8080/"
        },
        "id": "e8YpewNYb-IC",
        "outputId": "40930990-557d-40cc-911c-618ac921b4bb"
      },
      "outputs": [
        {
          "name": "stdout",
          "output_type": "stream",
          "text": [
            "[[-0.10622796 -0.2455109  -0.24551522]\n",
            " [-0.14124021 -0.30780417 -0.34300429]\n",
            " [-0.17609227 -0.3549691  -0.45339338]\n",
            " [-0.21039342 -0.38360258 -0.57822383]\n",
            " [-0.24345294 -0.39032508 -0.71782998]\n",
            " [-0.27424849 -0.37188225 -0.87111825]\n",
            " [-0.30141789 -0.3253083  -1.03536404]\n",
            " [-0.32328614 -0.24815876 -1.20606135]\n",
            " [-0.33794053 -0.13881672 -1.37687305]\n",
            " [-0.34336462  0.00313058 -1.5397411 ]\n",
            " [-0.33763577  0.17646393 -1.68522096]\n",
            " [-0.31917992  0.37789825 -1.80309391]\n",
            " [-0.28706069  0.6017226  -1.88327705]\n",
            " [-0.24126103  0.83963071 -1.91698387]\n",
            " [-0.18289794  1.08087886 -1.89799558]\n",
            " [-0.11430443  1.31288701 -1.82380836]\n",
            " [-0.03892537  1.52231722 -1.69637013]\n",
            " [ 0.03898951  1.69652421 -1.52216104]\n",
            " [ 0.11485864  1.82512111 -1.31152034]\n",
            " [ 0.18431818  1.90131195 -1.07733719]\n",
            " [ 0.24373134  1.92267203 -0.83341133]\n",
            " [ 0.2905519   1.8912098  -0.59286428]\n",
            " [ 0.32348273  1.81275158 -0.36691546]\n",
            " [ 0.34242852  1.6958606  -0.16417941]\n",
            " [ 0.34829063  1.550572    0.0095274 ]\n",
            " [ 0.34267414  1.38719603  0.15099319]\n",
            " [ 0.32757603  1.21535327  0.25919205]\n",
            " [ 0.30510577  1.04330803  0.33478257]\n",
            " [ 0.27726711  0.87759219  0.379623  ]\n",
            " [ 0.24581053  0.72286911  0.39635703]\n",
            " [ 0.21215163  0.58197221  0.38808988]\n",
            " [ 0.17734325  0.45605534  0.35815398]\n",
            " [ 0.14208648  0.34480263  0.30995379]\n",
            " [ 0.10676672  0.24665905  0.24687679]\n",
            " [ 0.0715035   0.15905659  0.17225875]]\n"
          ]
        }
      ],
      "source": [
        "for i in range(sample):\n",
        "  velNum[i] = signal[i+1][3:6];\n",
        "print(velNum);"
      ]
    },
    {
      "cell_type": "code",
      "execution_count": 153,
      "metadata": {
        "colab": {
          "base_uri": "https://localhost:8080/"
        },
        "id": "r6LQz9UQZt9K",
        "outputId": "cc82420e-aa5f-4b7c-9ae1-13e753cad284"
      },
      "outputs": [
        {
          "name": "stdout",
          "output_type": "stream",
          "text": [
            "[[ -18.  -22.  -20.]\n",
            " [ -25.  -30.  -28.]\n",
            " [ -31.  -37.  -37.]\n",
            " [ -38.  -43.  -47.]\n",
            " [ -44.  -48.  -56.]\n",
            " [ -50.  -50.  -67.]\n",
            " [ -54.  -51.  -77.]\n",
            " [ -58.  -50.  -88.]\n",
            " [ -61.  -46.  -98.]\n",
            " [ -62.  -39. -108.]\n",
            " [ -61.  -29. -115.]\n",
            " [ -58.  -16. -121.]\n",
            " [ -53.   -1. -125.]\n",
            " [ -45.   15. -125.]\n",
            " [ -36.   34. -121.]\n",
            " [ -25.   53. -114.]\n",
            " [ -12.   72. -103.]\n",
            " [   1.   89.  -89.]\n",
            " [  12.  103.  -72.]\n",
            " [  25.  114.  -53.]\n",
            " [  36.  121.  -34.]\n",
            " [  45.  125.  -15.]\n",
            " [  53.  125.    1.]\n",
            " [  58.  121.   16.]\n",
            " [  61.  115.   29.]\n",
            " [  62.  108.   39.]\n",
            " [  61.   98.   46.]\n",
            " [  58.   88.   50.]\n",
            " [  54.   77.   51.]\n",
            " [  50.   67.   50.]\n",
            " [  44.   56.   48.]\n",
            " [  38.   47.   43.]\n",
            " [  31.   37.   37.]\n",
            " [  25.   28.   30.]\n",
            " [  18.   20.   22.]]\n",
            "[[ 3.  8.  8.]\n",
            " [ 5. 11. 11.]\n",
            " [ 6. 12. 14.]\n",
            " [ 7. 13. 17.]\n",
            " [ 8. 14. 20.]\n",
            " [ 9. 13. 20.]\n",
            " [10. 11. 20.]\n",
            " [11.  8. 20.]\n",
            " [12.  4. 20.]\n",
            " [12.  1. 20.]\n",
            " [12.  3. 20.]\n",
            " [11.  6. 20.]\n",
            " [10.  9. 20.]\n",
            " [ 8. 12. 20.]\n",
            " [ 6. 15. 20.]\n",
            " [ 4. 18. 20.]\n",
            " [ 1. 20. 20.]\n",
            " [ 1. 20. 20.]\n",
            " [ 4. 20. 20.]\n",
            " [ 6. 20. 20.]\n",
            " [ 8. 20. 20.]\n",
            " [10. 20. 20.]\n",
            " [11. 20. 13.]\n",
            " [12. 20.  5.]\n",
            " [12. 20.  1.]\n",
            " [12. 20.  3.]\n",
            " [11. 20.  6.]\n",
            " [10. 20.  9.]\n",
            " [ 9. 20. 12.]\n",
            " [ 8. 20. 14.]\n",
            " [ 7. 20. 13.]\n",
            " [ 6. 16. 12.]\n",
            " [ 5. 12. 11.]\n",
            " [ 3.  8.  8.]\n",
            " [ 1.  6.  6.]]\n"
          ]
        }
      ],
      "source": [
        "calStepNum = np.zeros((sample,3));\n",
        "calVelNum = np.zeros((sample,3));\n",
        "Tiso = 36/20;\n",
        "vibuoc = 16;\n",
        "\n",
        "# calStepNum[0][0] = int((stepNum[0][0]-0)/(360 / 800 / vibuoc) *Tiso);\n",
        "# calStepNum[0][1] = int((stepNum[0][1]-0)/(360 / 800 / vibuoc) *Tiso);\n",
        "# calStepNum[0][2] = int((stepNum[0][2]-0)/(360 / 800 / vibuoc) *Tiso);\n",
        "\n",
        "for i in range(sample):\n",
        "  calStepNum[i][0] = int((stepNum[i+1][0] - stepNum[i][0])/(360 / 800 / vibuoc) *Tiso);\n",
        "  calStepNum[i][1] = int((stepNum[i+1][1] - stepNum[i][1])/(360 / 800 / vibuoc) *Tiso);\n",
        "  calStepNum[i][2] = int((stepNum[i+1][2] - stepNum[i][2])/(360 / 800 / vibuoc) *Tiso);\n",
        "  if calStepNum[i][0] == 0:\n",
        "    calStepNum[i][0] = 1;\n",
        "  if calStepNum[i][1] == 0:\n",
        "    calStepNum[i][1] = 1;\n",
        "  if calStepNum[i][2] == 0:\n",
        "    calStepNum[i][2] = 1;\n",
        "\n",
        "# calStepNum[sample][0] = -calStepNum[sample-1][0]\n",
        "# calStepNum[sample][1] = -calStepNum[sample-1][1]\n",
        "# calStepNum[sample][2] = -calStepNum[sample-1][2]\n",
        "\n",
        "# calStepNum[sample-1][0] = calStepNum[sample-1][0]*2\n",
        "# calStepNum[sample-1][1] = calStepNum[sample-1][1]*2\n",
        "# calStepNum[sample-1][2] = calStepNum[sample-1][2]*2\n",
        "\n",
        "# calStepNum[sample][0] = calStepNum[sample][0] - calStepNum[sample-1][0]\n",
        "# calStepNum[sample][1] = calStepNum[sample][1] - calStepNum[sample-1][1]\n",
        "# calStepNum[sample][2] = calStepNum[sample][2] - calStepNum[sample-1][2]\n",
        "\n",
        "# calStepNum= np.round(calStepNum.transpose()).astype(int)\n",
        "print(calStepNum)\n",
        "\n",
        "hesoTest = 1\n",
        "for i in range(sample-1):\n",
        "  calVelNum[i][0] = int(abs(velNum[i][0])*(sample+1));\n",
        "  calVelNum[i][1] = int(abs(velNum[i][1])*(sample+1));\n",
        "  calVelNum[i][2] = int(abs(velNum[i][2])*(sample+1));\n",
        "\n",
        "for i in range(sample-1):\n",
        "  if (calVelNum[i+1][0] - calVelNum[i][0]) > 3:\n",
        "    calVelNum[i+1][0] = calVelNum[i][0] + 3;\n",
        "\n",
        "  if (calVelNum[i+1][1] - calVelNum[i][1]) > 3:\n",
        "    calVelNum[i+1][1] = calVelNum[i][1] + 3;\n",
        "\n",
        "  if (calVelNum[i+1][2] - calVelNum[i][2]) > 3:\n",
        "    calVelNum[i+1][2] = calVelNum[i][2] + 3;\n",
        "\n",
        "  if calVelNum[i+1][0] >= 20:\n",
        "    calVelNum[i+1][0] = 20\n",
        "  if calVelNum[i+1][1] >= 20:\n",
        "    calVelNum[i+1][1] = 20\n",
        "  if calVelNum[i+1][2] >= 20:\n",
        "    calVelNum[i+1][2] = 20\n",
        "\n",
        "  # if calVelNum[i][0] - calVelNum[i+1][0] > 2:\n",
        "  #   calVelNum[i][0] = calVelNum[i+1][0] + 2;\n",
        "  # if calVelNum[i][1] - calVelNum[i+1][1] > 2:\n",
        "  #   calVelNum[i][1] = calVelNum[i][1] + 2;\n",
        "  # if calVelNum[i][2] - calVelNum[i][2] > 2:\n",
        "  #   calVelNum[i][2] = calVelNum[i][2] + 2;\n",
        "\n",
        "  if calVelNum[i][0] == 0:\n",
        "    calVelNum[i][0] = 1;\n",
        "  if calVelNum[i][1] == 0:\n",
        "    calVelNum[i][1] = 1;\n",
        "  if calVelNum[i][2] == 0:\n",
        "    calVelNum[i][2] = 1;\n",
        "\n",
        "calVelNum[sample-1][0] = calVelNum[sample-2][0] - 2\n",
        "calVelNum[sample-1][1] = calVelNum[sample-2][1] - 2\n",
        "calVelNum[sample-1][2] = calVelNum[sample-2][2] - 2\n",
        "\n",
        "# calVelNum[sample-1][0] = calVelNum[sample-2][0]*0.75\n",
        "# calVelNum[sample-1][1] = calVelNum[sample-2][1]*0.75\n",
        "# calVelNum[sample-1][2] = calVelNum[sample-2][2]*0.75\n",
        "\n",
        "print(calVelNum);"
      ]
    },
    {
      "cell_type": "code",
      "execution_count": 154,
      "metadata": {
        "colab": {
          "base_uri": "https://localhost:8080/"
        },
        "id": "gFU5z9Gq6mi9",
        "outputId": "e91c6ce6-1eac-4d79-a8de-a3228cc051fc"
      },
      "outputs": [
        {
          "name": "stdout",
          "output_type": "stream",
          "text": [
            "-18,-25,-31,-38,-44,-50,-54,-58,-61,-62,-61,-58,-53,-45,-36,-25,-12,1,12,25,36,45,53,58,61,62,61,58,54,50,44,38,31,25,18,-22,-30,-37,-43,-48,-50,-51,-50,-46,-39,-29,-16,-1,15,34,53,72,89,103,114,121,125,125,121,115,108,98,88,77,67,56,47,37,28,20,-20,-28,-37,-47,-56,-67,-77,-88,-98,-108,-115,-121,-125,-125,-121,-114,-103,-89,-72,-53,-34,-15,1,16,29,39,46,50,51,50,48,43,37,30,22\n"
          ]
        }
      ],
      "source": [
        "# check quỹ đạo để đảo ngược thứ tự step truyền vào\n",
        "check_direction =  FKinem(stepNum[0][0], stepNum[0][1], stepNum[0][2]) - np.transpose(startP)\n",
        "# if np.sum(np.abs(check_direction)) >= 10:\n",
        "#   print(\"quy dao bi nguoc\")\n",
        "#   calStepNum = np.flip(calStepNum)\n",
        "\n",
        "flat_arr = np.reshape(calStepNum, -1, order='F')\n",
        "flat_arr= np.round(flat_arr.transpose()).astype(int)\n",
        "# flat_arr= np.round(flat_arr.transpose()).astype(int)\n",
        "listToStr_step = ','.join([str(elem) for elem in flat_arr])\n",
        "print(listToStr_step)"
      ]
    },
    {
      "attachments": {},
      "cell_type": "markdown",
      "metadata": {},
      "source": [
        "Copy đoạn kết quả sau, cho vào mảng int data[numberStepper * 2 * numberSplit] = {kết quả}; trong arduino"
      ]
    },
    {
      "cell_type": "code",
      "execution_count": 155,
      "metadata": {
        "colab": {
          "base_uri": "https://localhost:8080/"
        },
        "id": "irAl0Bt015uV",
        "outputId": "d4c684d2-cdfc-40a6-c005-ed8d99077419"
      },
      "outputs": [
        {
          "name": "stdout",
          "output_type": "stream",
          "text": [
            "-18,-25,-31,-38,-44,-50,-54,-58,-61,-62,-61,-58,-53,-45,-36,-25,-12,1,12,25,36,45,53,58,61,62,61,58,54,50,44,38,31,25,18,-22,-30,-37,-43,-48,-50,-51,-50,-46,-39,-29,-16,-1,15,34,53,72,89,103,114,121,125,125,121,115,108,98,88,77,67,56,47,37,28,20,-20,-28,-37,-47,-56,-67,-77,-88,-98,-108,-115,-121,-125,-125,-121,-114,-103,-89,-72,-53,-34,-15,1,16,29,39,46,50,51,50,48,43,37,30,22,3,5,6,7,8,9,10,11,12,12,12,11,10,8,6,4,1,1,4,6,8,10,11,12,12,12,11,10,9,8,7,6,5,3,1,8,11,12,13,14,13,11,8,4,1,3,6,9,12,15,18,20,20,20,20,20,20,20,20,20,20,20,20,20,20,20,16,12,8,6,8,11,14,17,20,20,20,20,20,20,20,20,20,20,20,20,20,20,20,20,20,20,13,5,1,3,6,9,12,14,13,12,11,8,6\n"
          ]
        }
      ],
      "source": [
        "# arrStep = np.zeros(sample*3)\n",
        "# arrStep = calStepNum.flatten()\n",
        "\n",
        "# arrVel = calVelNum.flatten()\n",
        "\n",
        "# động cơ và vận tốc\n",
        "arrStep = np.reshape(calStepNum, -1, order='F')\n",
        "arrVel = np.reshape(calVelNum, -1, order='F')\n",
        "\n",
        "arrStepVel = np.concatenate((arrStep,arrVel),axis=None)\n",
        "\n",
        "arrStepVel= np.round(arrStepVel.transpose()).astype(int)\n",
        "\n",
        "listToStr = ','.join([str(elem) for elem in arrStepVel])\n",
        "print(listToStr);"
      ]
    }
  ],
  "metadata": {
    "colab": {
      "provenance": []
    },
    "kernelspec": {
      "display_name": "Python 3",
      "name": "python3"
    },
    "language_info": {
      "codemirror_mode": {
        "name": "ipython",
        "version": 3
      },
      "file_extension": ".py",
      "mimetype": "text/x-python",
      "name": "python",
      "nbconvert_exporter": "python",
      "pygments_lexer": "ipython3",
      "version": "3.11.4"
    }
  },
  "nbformat": 4,
  "nbformat_minor": 0
}
